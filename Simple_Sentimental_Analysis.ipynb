{
 "cells": [
  {
   "cell_type": "markdown",
   "id": "8265a0d0",
   "metadata": {},
   "source": [
    "# SENTIMENTAL ANALYSIS"
   ]
  },
  {
   "cell_type": "markdown",
   "id": "0174498c",
   "metadata": {},
   "source": [
    "# Aim: To get the sentiments out of an article on a website"
   ]
  },
  {
   "cell_type": "code",
   "execution_count": 30,
   "id": "420f7441",
   "metadata": {},
   "outputs": [],
   "source": [
    "# Packages Needed:  newspaper3k, nltk, textblob"
   ]
  },
  {
   "cell_type": "code",
   "execution_count": 3,
   "id": "853beb98",
   "metadata": {},
   "outputs": [],
   "source": [
    "#Import the libraries\n",
    "\n",
    "from textblob import TextBlob\n",
    "import nltk\n",
    "from newspaper import Article"
   ]
  },
  {
   "cell_type": "code",
   "execution_count": 16,
   "id": "c13c2308",
   "metadata": {},
   "outputs": [],
   "source": [
    "#Get the article\n",
    "url = 'https://everythingcomputerscience.com/'\n",
    "article = Article(url) # instance of Article"
   ]
  },
  {
   "cell_type": "code",
   "execution_count": 32,
   "id": "c851d9be",
   "metadata": {},
   "outputs": [],
   "source": [
    "# Do some NLP\n",
    "article.download() #Downloads the link’s HTML content\n",
    "article.parse() #Parse the article\n",
    "# nltk.download('punkt')#1 time download of the sentence tokenizer\n",
    "article.nlp()#  Keyword extraction"
   ]
  },
  {
   "cell_type": "code",
   "execution_count": 20,
   "id": "fb61d3bb",
   "metadata": {},
   "outputs": [
    {
     "name": "stdout",
     "output_type": "stream",
     "text": [
      "Computer Science (CS)Computer Science (CS) is the study of the principles and use of computers.\n",
      "Simply put it's the science that deals with the theory and methods of processing information in digital computers, the design of computer hardware and software, and the applications of computers.\n",
      "A computer is simply a tool for a computer scientist, like a telescope for an astronomer.\n",
      "Teach yourself !\n"
     ]
    }
   ],
   "source": [
    "text = article.summary\n",
    "#print text\n",
    "print(text)"
   ]
  },
  {
   "cell_type": "code",
   "execution_count": 21,
   "id": "879b009c",
   "metadata": {},
   "outputs": [],
   "source": [
    "obj = TextBlob(text)"
   ]
  },
  {
   "cell_type": "code",
   "execution_count": 28,
   "id": "7eb588f8",
   "metadata": {},
   "outputs": [
    {
     "name": "stdout",
     "output_type": "stream",
     "text": [
      "0.0\n",
      "0.2380952380952381\n"
     ]
    }
   ],
   "source": [
    "#returns the sentiment of text\n",
    "#by returning a value between -1.0 and 1.0\n",
    "sentiment_polarity = obj.sentiment.polarity\n",
    "print(sentiment)\n",
    "sentiment_subjectivity = obj.sentiment.subjectivity\n",
    "print(sentiment_subjectivity)"
   ]
  },
  {
   "cell_type": "code",
   "execution_count": 29,
   "id": "fd4f0208",
   "metadata": {},
   "outputs": [
    {
     "name": "stdout",
     "output_type": "stream",
     "text": [
      "The text is neutral\n",
      "It is a factual Information\n"
     ]
    }
   ],
   "source": [
    "if sentiment_polarity == 0:\n",
    "  print('The text is neutral')\n",
    "elif sentiment_polarity > 0:\n",
    "  print('The text is positive')\n",
    "else:\n",
    "  print('The text is negative')\n",
    "\n",
    "if sentiment_subjectivity < 0.5:\n",
    "    print(\"It is a factual Information\")\n",
    "elif sentiment_subjectivity > 0.5:\n",
    "    print(\"It is an opinion/ emotion expressed/ judgement\")"
   ]
  }
 ],
 "metadata": {
  "kernelspec": {
   "display_name": "Python 3",
   "language": "python",
   "name": "python3"
  },
  "language_info": {
   "codemirror_mode": {
    "name": "ipython",
    "version": 3
   },
   "file_extension": ".py",
   "mimetype": "text/x-python",
   "name": "python",
   "nbconvert_exporter": "python",
   "pygments_lexer": "ipython3",
   "version": "3.8.8"
  }
 },
 "nbformat": 4,
 "nbformat_minor": 5
}
